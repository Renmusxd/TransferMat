{
 "cells": [
  {
   "cell_type": "code",
   "execution_count": 1,
   "id": "7c016c04",
   "metadata": {},
   "outputs": [],
   "source": [
    "import py_tiamat\n",
    "import numpy\n",
    "import scipy.linalg\n",
    "from matplotlib import pyplot\n",
    "from tqdm import tqdm"
   ]
  },
  {
   "cell_type": "code",
   "execution_count": 2,
   "id": "0327c062",
   "metadata": {},
   "outputs": [],
   "source": [
    "L = 4\n",
    "k = 4\n",
    "d1 = [1,1]\n",
    "ngs, perms, norms = py_tiamat.generate_states(L,k,d1,n_sector=[1]*k)"
   ]
  },
  {
   "cell_type": "code",
   "execution_count": 3,
   "id": "d426f377",
   "metadata": {},
   "outputs": [
    {
     "data": {
      "text/plain": [
       "(9216, 2, 4)"
      ]
     },
     "execution_count": 3,
     "metadata": {},
     "output_type": "execute_result"
    }
   ],
   "source": [
    "ngs.shape"
   ]
  },
  {
   "cell_type": "code",
   "execution_count": 4,
   "id": "9549bb74",
   "metadata": {},
   "outputs": [],
   "source": [
    "overlap_mat = py_tiamat.make_overlap_matrix(L,k,d1,n_sector=[1]*k)"
   ]
  },
  {
   "cell_type": "code",
   "execution_count": 8,
   "id": "327bf125",
   "metadata": {},
   "outputs": [],
   "source": [
    "q, r = numpy.linalg.qr(overlap_mat)"
   ]
  },
  {
   "cell_type": "code",
   "execution_count": null,
   "id": "2a29b71f",
   "metadata": {},
   "outputs": [],
   "source": [
    "# all_eigs = []\n",
    "# n_sectors = [[na,nb,nc] for na in range(5) for nb in range(5) for nc in range(5)]\n",
    "\n",
    "# for nsector in tqdm(n_sectors):\n",
    "#     overlap_mat = py_tiamat.make_ortho_overlap_matrix(4,4,[2,2],n_sector=nsector)\n",
    "#     eigs = numpy.linalg.eigvalsh(overlap_mat)\n",
    "#     all_eigs.append(eigs)"
   ]
  }
 ],
 "metadata": {
  "kernelspec": {
   "display_name": "Python 3 (ipykernel)",
   "language": "python",
   "name": "python3"
  },
  "language_info": {
   "codemirror_mode": {
    "name": "ipython",
    "version": 3
   },
   "file_extension": ".py",
   "mimetype": "text/x-python",
   "name": "python",
   "nbconvert_exporter": "python",
   "pygments_lexer": "ipython3",
   "version": "3.10.6"
  }
 },
 "nbformat": 4,
 "nbformat_minor": 5
}
