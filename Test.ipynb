{
 "cells": [
  {
   "cell_type": "code",
   "execution_count": 1,
   "id": "a9163d40",
   "metadata": {},
   "outputs": [],
   "source": [
    "import py_tiamat\n",
    "import numpy\n",
    "from matplotlib import pyplot\n",
    "from tqdm import tqdm"
   ]
  },
  {
   "cell_type": "code",
   "execution_count": 2,
   "id": "acb7f67d",
   "metadata": {},
   "outputs": [
    {
     "data": {
      "text/plain": [
       "[9, 18, 9]"
      ]
     },
     "execution_count": 2,
     "metadata": {},
     "output_type": "execute_result"
    }
   ],
   "source": [
    "py_tiamat.generate_d2s([3,3])"
   ]
  },
  {
   "cell_type": "code",
   "execution_count": 3,
   "id": "7080b5c4",
   "metadata": {},
   "outputs": [
    {
     "data": {
      "text/plain": [
       "[[0], [1, 2], [3], [4, 6], [5]]"
      ]
     },
     "execution_count": 3,
     "metadata": {},
     "output_type": "execute_result"
    }
   ],
   "source": [
    "py_tiamat.gen_cycles_for_perm([0,2,1,3,6,5,4])"
   ]
  },
  {
   "cell_type": "code",
   "execution_count": 4,
   "id": "7e76fb29",
   "metadata": {},
   "outputs": [
    {
     "data": {
      "text/plain": [
       "[[[[0], [1]], [[0, 1]]], [[[0, 1]], [[0], [1]]]]"
      ]
     },
     "execution_count": 4,
     "metadata": {},
     "output_type": "execute_result"
    }
   ],
   "source": [
    "py_tiamat.make_cycles_mat(2)"
   ]
  },
  {
   "cell_type": "code",
   "execution_count": 5,
   "id": "a0da9b82",
   "metadata": {},
   "outputs": [],
   "source": [
    "ngs, perms, norms = py_tiamat.generate_uniform_states(4,3,[4,4])"
   ]
  },
  {
   "cell_type": "code",
   "execution_count": 6,
   "id": "56b28daf",
   "metadata": {},
   "outputs": [
    {
     "data": {
      "text/plain": [
       "array([[[0, 0, 0],\n",
       "        [0, 0, 0]],\n",
       "\n",
       "       [[0, 0, 0],\n",
       "        [0, 0, 0]],\n",
       "\n",
       "       [[0, 0, 0],\n",
       "        [0, 0, 0]],\n",
       "\n",
       "       ...,\n",
       "\n",
       "       [[2, 2, 2],\n",
       "        [2, 2, 2]],\n",
       "\n",
       "       [[2, 2, 2],\n",
       "        [2, 2, 2]],\n",
       "\n",
       "       [[2, 2, 2],\n",
       "        [2, 2, 2]]], dtype=uint64)"
      ]
     },
     "execution_count": 6,
     "metadata": {},
     "output_type": "execute_result"
    }
   ],
   "source": [
    "ngs"
   ]
  },
  {
   "cell_type": "code",
   "execution_count": 7,
   "id": "0da9afaa",
   "metadata": {},
   "outputs": [
    {
     "data": {
      "text/plain": [
       "array([0, 1, 2, ..., 3, 4, 5], dtype=uint64)"
      ]
     },
     "execution_count": 7,
     "metadata": {},
     "output_type": "execute_result"
    }
   ],
   "source": [
    "perms"
   ]
  },
  {
   "cell_type": "code",
   "execution_count": 8,
   "id": "9f3a814b",
   "metadata": {},
   "outputs": [
    {
     "data": {
      "text/plain": [
       "array([4096., 4096., 4096., ..., 4096., 4096., 4096.])"
      ]
     },
     "execution_count": 8,
     "metadata": {},
     "output_type": "execute_result"
    }
   ],
   "source": [
    "norms"
   ]
  },
  {
   "cell_type": "code",
   "execution_count": 9,
   "id": "edf5a00b",
   "metadata": {},
   "outputs": [
    {
     "data": {
      "text/plain": [
       "4374"
      ]
     },
     "execution_count": 9,
     "metadata": {},
     "output_type": "execute_result"
    }
   ],
   "source": [
    "len(norms)"
   ]
  },
  {
   "cell_type": "code",
   "execution_count": 10,
   "id": "23bb0149",
   "metadata": {},
   "outputs": [
    {
     "data": {
      "text/plain": [
       "(4374, 4374)"
      ]
     },
     "execution_count": 10,
     "metadata": {},
     "output_type": "execute_result"
    }
   ],
   "source": [
    "overlap = py_tiamat.make_uniform_perm_overlap_matrix(4,3,[4,4])\n",
    "overlap.shape"
   ]
  },
  {
   "cell_type": "code",
   "execution_count": 11,
   "id": "a490d1f5",
   "metadata": {
    "scrolled": true
   },
   "outputs": [
    {
     "data": {
      "text/plain": [
       "array([-0.50195313, -0.50195313, -0.50195313, ...,  1.00390625,\n",
       "        1.01174927,  1.01174927])"
      ]
     },
     "execution_count": 11,
     "metadata": {},
     "output_type": "execute_result"
    }
   ],
   "source": [
    "eigs = numpy.linalg.eigvalsh(overlap)\n",
    "eigs"
   ]
  },
  {
   "cell_type": "code",
   "execution_count": 12,
   "id": "4ce49f70",
   "metadata": {},
   "outputs": [
    {
     "data": {
      "text/plain": [
       "750"
      ]
     },
     "execution_count": 12,
     "metadata": {},
     "output_type": "execute_result"
    }
   ],
   "source": [
    "len(eigs[eigs>0.988])"
   ]
  },
  {
   "cell_type": "code",
   "execution_count": 13,
   "id": "380c9d1b",
   "metadata": {},
   "outputs": [
    {
     "data": {
      "text/plain": [
       "750"
      ]
     },
     "execution_count": 13,
     "metadata": {},
     "output_type": "execute_result"
    }
   ],
   "source": [
    "(3*2*1) * (5**3)"
   ]
  },
  {
   "cell_type": "code",
   "execution_count": 14,
   "id": "abc1bfeb",
   "metadata": {},
   "outputs": [
    {
     "data": {
      "image/png": "[encoded data removed]",
      "text/plain": [
       "<Figure size 640x480 with 1 Axes>"
      ]
     },
     "metadata": {},
     "output_type": "display_data"
    }
   ],
   "source": [
    "pyplot.plot(eigs)\n",
    "pyplot.ylabel(r'$\\lambda_i$')\n",
    "pyplot.show()"
   ]
  },
  {
   "cell_type": "code",
   "execution_count": 15,
   "id": "bdd757c7",
   "metadata": {},
   "outputs": [
    {
     "data": {
      "text/plain": [
       "array([-0.50195313, -0.50195313, -0.50195313, ...,  0.25065175,\n",
       "        0.25065175,  0.25114151])"
      ]
     },
     "execution_count": 15,
     "metadata": {},
     "output_type": "execute_result"
    }
   ],
   "source": [
    "eigs[eigs<0.988]"
   ]
  },
  {
   "cell_type": "markdown",
   "id": "aa8266b4",
   "metadata": {},
   "source": [
    "# Mixed"
   ]
  },
  {
   "cell_type": "code",
   "execution_count": 22,
   "id": "1d498c9b",
   "metadata": {},
   "outputs": [],
   "source": [
    "ngs, perms, norms = py_tiamat.generate_states(4,3,[6,6])"
   ]
  },
  {
   "cell_type": "code",
   "execution_count": 23,
   "id": "95869c76",
   "metadata": {},
   "outputs": [
    {
     "data": {
      "text/plain": [
       "(26244,)"
      ]
     },
     "execution_count": 23,
     "metadata": {},
     "output_type": "execute_result"
    }
   ],
   "source": [
    "norms.shape"
   ]
  },
  {
   "cell_type": "code",
   "execution_count": 32,
   "id": "8ad7d71c",
   "metadata": {},
   "outputs": [
    {
     "name": "stderr",
     "output_type": "stream",
     "text": [
      "100%|█████████████████████████████████████████████████████| 125/125 [00:03<00:00, 34.60it/s]\n"
     ]
    }
   ],
   "source": [
    "all_eigs = []\n",
    "n_sectors = [[na,nb,nc] for na in range(5) for nb in range(5) for nc in range(5)]\n",
    "\n",
    "for nsector in tqdm(n_sectors):\n",
    "    overlap_mat = py_tiamat.make_overlap_matrix(4,3,[6,6],n_sector=nsector)\n",
    "    eigs = numpy.linalg.eigvalsh(overlap_mat)\n",
    "    all_eigs.append(eigs)"
   ]
  },
  {
   "cell_type": "code",
   "execution_count": 33,
   "id": "8723e622",
   "metadata": {},
   "outputs": [],
   "source": [
    "flat_eigs = numpy.array([x for xs in all_eigs for x in xs])"
   ]
  },
  {
   "cell_type": "code",
   "execution_count": 34,
   "id": "8c2384c4",
   "metadata": {},
   "outputs": [
    {
     "data": {
      "text/plain": [
       "750"
      ]
     },
     "execution_count": 34,
     "metadata": {},
     "output_type": "execute_result"
    }
   ],
   "source": [
    "len(flat_eigs[flat_eigs>0.9])"
   ]
  },
  {
   "cell_type": "code",
   "execution_count": 35,
   "id": "8acb2a98",
   "metadata": {},
   "outputs": [
    {
     "data": {
      "image/png": "[encoded data removed]",
      "text/plain": [
       "<Figure size 640x480 with 1 Axes>"
      ]
     },
     "metadata": {},
     "output_type": "display_data"
    }
   ],
   "source": [
    "pyplot.plot(sorted(flat_eigs))\n",
    "pyplot.ylabel(r'$\\lambda_i$')\n",
    "pyplot.show()"
   ]
  },
  {
   "cell_type": "code",
   "execution_count": null,
   "id": "00984211",
   "metadata": {},
   "outputs": [],
   "source": []
  }
 ],
 "metadata": {
  "kernelspec": {
   "display_name": "Python 3 (ipykernel)",
   "language": "python",
   "name": "python3"
  },
  "language_info": {
   "codemirror_mode": {
    "name": "ipython",
    "version": 3
   },
   "file_extension": ".py",
   "mimetype": "text/x-python",
   "name": "python",
   "nbconvert_exporter": "python",
   "pygments_lexer": "ipython3",
   "version": "3.10.6"
  }
 },
 "nbformat": 4,
 "nbformat_minor": 5
}
